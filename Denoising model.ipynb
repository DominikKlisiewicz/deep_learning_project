{
 "cells": [
  {
   "cell_type": "code",
   "execution_count": 58,
   "id": "18528fdd",
   "metadata": {},
   "outputs": [],
   "source": [
    "import os\n",
    "import librosa\n",
    "import librosa.display\n",
    "import numpy as np\n",
    "import pandas as pd\n",
    "import soundfile as sf\n",
    "import matplotlib.pyplot as plt\n",
    "import tensorflow as tf\n",
    "from tensorflow.keras.layers import Conv2D, Conv2DTranspose, BatchNormalization, MaxPooling2D, Input\n",
    "from tensorflow.keras.models import Model, load_model\n",
    "from tensorflow.keras.callbacks import ModelCheckpoint, EarlyStopping, ReduceLROnPlateau\n",
    "from tensorflow.keras.optimizers import Adam\n",
    "from tensorflow.keras.callbacks import History\n",
    "import netron"
   ]
  },
  {
   "cell_type": "code",
   "execution_count": 2,
   "id": "c43fb9a1",
   "metadata": {},
   "outputs": [],
   "source": [
    "def padd_audio(audio, max_duration=5, sample_rate=16000):\n",
    "    \"\"\"This function take an audio and padd that audio with zeros\"\"\"\n",
    "    \n",
    "    max_length = max_duration * sample_rate\n",
    "    padding_needed = max_length - len(audio)\n",
    "    pad_left = padding_needed // 2\n",
    "    pad_right = padding_needed - pad_left\n",
    "    \n",
    "    return np.pad(audio, (pad_left, pad_right), 'constant')"
   ]
  },
  {
   "cell_type": "code",
   "execution_count": 3,
   "id": "d6fec962",
   "metadata": {},
   "outputs": [],
   "source": [
    "def mix_audio(original_audio_path, noise_audio_path, sample_rate=16000):\n",
    "    \"\"\"This function take an original audio path and noise audio path and mix it together\"\"\"\n",
    "    \n",
    "    # Load the original audio\n",
    "    original_audio, sr = librosa.load(original_audio_path, sr=sample_rate)\n",
    "    \n",
    "    #Padd original audio\n",
    "    original_audio = padd_audio(original_audio, sample_rate=sample_rate)\n",
    "    \n",
    "    # Load the noise audio\n",
    "    noise_audio, sr_noise = librosa.load(noise_audio_path, sr=sample_rate)\n",
    "    \n",
    "    # Repeat the noise audio\n",
    "    noise_audio = np.tile(noise_audio, int(np.ceil(len(original_audio) / len(noise_audio))))\n",
    "\n",
    "    # Trim the repeated noise audio to match the length of the original audio\n",
    "    noise_audio = noise_audio[:len(original_audio)]\n",
    "    \n",
    "    return original_audio + noise_audio/2"
   ]
  },
  {
   "cell_type": "code",
   "execution_count": 4,
   "id": "66387d32",
   "metadata": {},
   "outputs": [],
   "source": [
    "def get_clean_audio(original_audio_path, sample_rate=16000):\n",
    "    \"\"\"This function take an original audio path and return padded audio\"\"\"\n",
    "    \n",
    "    # Load the original audio\n",
    "    original_audio, sr = librosa.load(original_audio_path, sr=sample_rate)\n",
    "    \n",
    "    #Padd original audio\n",
    "    return padd_audio(original_audio, sample_rate=sample_rate)"
   ]
  },
  {
   "cell_type": "code",
   "execution_count": 5,
   "id": "59bfacac",
   "metadata": {},
   "outputs": [],
   "source": [
    "sr = 16000  # Sampling rate   "
   ]
  },
  {
   "cell_type": "code",
   "execution_count": 6,
   "id": "b89d2956",
   "metadata": {},
   "outputs": [],
   "source": [
    "# Randmly chosen noise for each audio\n",
    "def combine_audio_with_noise(original_audio_dir, noise_audio_dir):\n",
    "    combination_dict = {}\n",
    "    noise_audios = os.listdir(noise_audio_dir)\n",
    "    original_audios = os.listdir(original_audio_dir)\n",
    "    \n",
    "    for original_audio in original_audios:\n",
    "        noise_audio = np.random.choice(noise_audios)\n",
    "        combination_dict[os.path.join(original_audio_dir, original_audio)] = os.path.join(noise_audio_dir, noise_audio)\n",
    "        \n",
    "    return combination_dict"
   ]
  },
  {
   "cell_type": "code",
   "execution_count": 7,
   "id": "1fcecf7a",
   "metadata": {},
   "outputs": [],
   "source": [
    "def audio_to_stft(audio, n_fft=1199, hop_length_fft=304):\n",
    "    # STFT transformation\n",
    "    stftaudio = librosa.stft(audio, n_fft=n_fft, hop_length=hop_length_fft)\n",
    "\n",
    "    # Extract magnitude and phase\n",
    "    stftaudio_magnitude, stftaudio_phase = librosa.magphase(stftaudio)\n",
    "\n",
    "    # Convert magnitude to dB\n",
    "    stftaudio_magnitude_db = librosa.amplitude_to_db(stftaudio_magnitude, ref=np.max)\n",
    "    \n",
    "    return stftaudio_magnitude_db, stftaudio_phase"
   ]
  },
  {
   "cell_type": "code",
   "execution_count": 8,
   "id": "08cda225",
   "metadata": {},
   "outputs": [],
   "source": [
    "def stft_to_audio(stftaudio_magnitude_db, stftaudio_phase, hop_length_fft=304):\n",
    "# Convert dB back to amplitude\n",
    "    stftaudio_magnitude_rev = librosa.db_to_amplitude(stftaudio_magnitude_db, ref=1.0)\n",
    "\n",
    "    # Reconstruct the STFT complex matrix\n",
    "    audio_reverse_stft = stftaudio_magnitude_rev * stftaudio_phase\n",
    "\n",
    "    # Inverse STFT to get back the audio signal\n",
    "    audio_reconstruct = librosa.istft(audio_reverse_stft, hop_length=hop_length_fft)\n",
    "\n",
    "    return audio_reconstruct / np.max(np.abs(audio_reconstruct))"
   ]
  },
  {
   "cell_type": "code",
   "execution_count": 9,
   "id": "861a3435",
   "metadata": {},
   "outputs": [],
   "source": [
    "# Example of normalization function using global min and max values\n",
    "def normalize(stft, global_min, global_max):\n",
    "    return (stft - global_min) / (global_max - global_min)\n",
    "\n",
    "# Example of denormalization function using global min and max values\n",
    "def denormalize(normalized_stft, global_min, global_max):\n",
    "    return normalized_stft * (global_max - global_min) + global_min"
   ]
  },
  {
   "cell_type": "code",
   "execution_count": null,
   "id": "e50f02cc",
   "metadata": {},
   "outputs": [],
   "source": [
    "def plot_graphs(history, string):\n",
    "        plt.plot(history.history[string])\n",
    "        plt.plot(history.history['val_'+string])\n",
    "        plt.xlabel(\"Epochs\")\n",
    "        plt.ylabel(string)\n",
    "        plt.legend([string, 'val_'+string])\n",
    "        plt.title(string+' through epochs')\n",
    "        plt.show()"
   ]
  },
  {
   "cell_type": "code",
   "execution_count": null,
   "id": "2aa3d8eb",
   "metadata": {},
   "outputs": [],
   "source": [
    "def get_audio_predictions(output_prediction, phase, global_min=global_min, global_max=global_max):\n",
    "    prediction = denormalize(output_prediction.squeeze(), global_min, global_max)\n",
    "    audio_prediction = stft_to_audio(prediction, phase, hop_length_fft=304)\n",
    "    return audio_prediction"
   ]
  },
  {
   "cell_type": "markdown",
   "id": "83cabcf8",
   "metadata": {},
   "source": [
    "# Preprocessing the data"
   ]
  },
  {
   "cell_type": "code",
   "execution_count": 10,
   "id": "7f92181c",
   "metadata": {},
   "outputs": [],
   "source": [
    "audio_noise_pairs = combine_audio_with_noise(os.path.join(os.getcwd(), 'Dataset'), os.path.join(os.getcwd(), 'Noise'))\n",
    "\n",
    "#Getting all the noisy and clean audio matrices\n",
    "noisy_audios = np.zeros(len(audio_noise_pairs), dtype=object)\n",
    "clean_audios = np.zeros(len(audio_noise_pairs), dtype=object)\n",
    "\n",
    "for index, (audio_dir, noise_dir) in enumerate(audio_noise_pairs.items()):\n",
    "    noisy_audios[index] = mix_audio(audio_dir, noise_dir, sample_rate=16000)\n",
    "    clean_audios[index] = get_clean_audio(audio_dir, sample_rate=16000)"
   ]
  },
  {
   "cell_type": "code",
   "execution_count": 11,
   "id": "1b5bbe56",
   "metadata": {},
   "outputs": [],
   "source": [
    "#Getting STFT data for learning process\n",
    "noisy_audios_stft = [audio_to_stft(audio)[0] for audio in noisy_audios]\n",
    "noisy_audios_stft_phase = [audio_to_stft(audio)[1] for audio in noisy_audios]\n",
    "clean_audios_stft = [audio_to_stft(audio)[0] for audio in clean_audios]"
   ]
  },
  {
   "cell_type": "code",
   "execution_count": 12,
   "id": "4e2c3ab2",
   "metadata": {},
   "outputs": [],
   "source": [
    "#Splitting the data for training 80%, validation 10% and test set 10%\n",
    "split_ratio1 = 0.8\n",
    "split_ratio2 = 0.9\n",
    "split_index1 = int(len(noisy_audios_stft) * split_ratio1)\n",
    "split_index2 = int(len(noisy_audios_stft) * split_ratio2)\n",
    "\n",
    "X_train = noisy_audios_stft[:split_index1]\n",
    "X_val = noisy_audios_stft[split_index1:split_index2]\n",
    "X_test = noisy_audios_stft[split_index2:]\n",
    "\n",
    "y_train = clean_audios_stft[:split_index1]\n",
    "y_val = clean_audios_stft[split_index1:split_index2]\n",
    "y_test = clean_audios_stft[split_index2:]\n",
    "\n",
    "phase_train = noisy_audios_stft_phase[:split_index1]\n",
    "phase_val = noisy_audios_stft_phase[split_index1:split_index2]\n",
    "phase_test = noisy_audios_stft_phase[split_index2:]"
   ]
  },
  {
   "cell_type": "code",
   "execution_count": 13,
   "id": "717c6024",
   "metadata": {},
   "outputs": [],
   "source": [
    "# Find the global min and max values from both the noisy and clean STFT data\n",
    "global_min = min(np.min(X_train), np.min(y_train))\n",
    "global_max = max(np.max(X_train), np.max(y_train))"
   ]
  },
  {
   "cell_type": "code",
   "execution_count": 14,
   "id": "7bbecd2c",
   "metadata": {},
   "outputs": [],
   "source": [
    "#Normalize data based on the data from training set\n",
    "X_train_normalized = normalize(X_train, global_min, global_max)\n",
    "X_val_normalized = normalize(X_val, global_min, global_max)\n",
    "X_test_normalized = normalize(X_test, global_min, global_max)\n",
    "\n",
    "y_train_normalized = normalize(y_train, global_min, global_max)\n",
    "y_val_normalized = normalize(y_val, global_min, global_max)\n",
    "y_test_normalized = normalize(y_test, global_min, global_max)"
   ]
  },
  {
   "cell_type": "code",
   "execution_count": 15,
   "id": "1ba886f6",
   "metadata": {},
   "outputs": [],
   "source": [
    "#Transform data to tensors: sample x dimensions(n x n) x channel(1)\n",
    "X_train_normalized = X_train_normalized[..., np.newaxis]\n",
    "X_val_normalized = X_val_normalized[..., np.newaxis]\n",
    "X_test_normalized = X_test_normalized[..., np.newaxis]\n",
    "\n",
    "y_train_normalized = y_train_normalized[..., np.newaxis]\n",
    "y_val_normalized = y_val_normalized[..., np.newaxis]\n",
    "y_test_normalized = y_test_normalized[..., np.newaxis]"
   ]
  },
  {
   "cell_type": "markdown",
   "id": "9d148b90",
   "metadata": {},
   "source": [
    "# Model"
   ]
  },
  {
   "cell_type": "code",
   "execution_count": 51,
   "id": "5eb4ba4b",
   "metadata": {},
   "outputs": [],
   "source": [
    "def generator(X, y, batch_size=16, epochs=100):\n",
    "    assert len(X) == len(y), \"The length of X and y must be the same\"\n",
    "    \n",
    "    # Iterate through each epoch\n",
    "    for epoch in range(epochs):\n",
    "        indices = np.arange(len(X))\n",
    "        np.random.shuffle(indices)\n",
    "        X_shuffled = X[indices]\n",
    "        y_shuffled = y[indices]\n",
    "        \n",
    "        for start in range(0, len(X), batch_size):\n",
    "            end = min(start + batch_size, len(X))\n",
    "            batch_X = X_shuffled[start:end]\n",
    "            batch_y = y_shuffled[start:end]\n",
    "            \n",
    "            yield batch_X, batch_y"
   ]
  },
  {
   "cell_type": "code",
   "execution_count": 54,
   "id": "67ecf633",
   "metadata": {},
   "outputs": [],
   "source": [
    "# Encoder\n",
    "def encoder(inputs):\n",
    "    x = Conv2D(64, (3, 3), activation='relu', padding='same')(inputs)\n",
    "    x = BatchNormalization()(x)\n",
    "    x = MaxPooling2D((2, 2))(x)\n",
    "    \n",
    "    x = Conv2D(128, (3, 3), activation='relu', padding='same')(x)\n",
    "    x = BatchNormalization()(x)\n",
    "    x = MaxPooling2D((2, 2))(x)\n",
    "    \n",
    "    x = Conv2D(256, (3, 3), activation='relu', padding='same')(x)\n",
    "    x = BatchNormalization()(x)\n",
    "    x = MaxPooling2D((2, 2))(x)\n",
    "    \n",
    "    encoded = Conv2D(512, (3, 3), activation='relu', padding='same')(x)\n",
    "    return encoded\n",
    "\n",
    "# Decoder\n",
    "def decoder(encoded):\n",
    "    x = Conv2DTranspose(256, (3, 3), strides=(2, 2), activation='relu', padding='same')(encoded)\n",
    "    x = BatchNormalization()(x)\n",
    "    \n",
    "    x = Conv2DTranspose(128, (3, 3), strides=(2, 2), activation='relu', padding='same')(x)\n",
    "    x = BatchNormalization()(x)\n",
    "    \n",
    "    x = Conv2DTranspose(64, (3, 3), strides=(2, 2), activation='relu', padding='same')(x)\n",
    "    x = BatchNormalization()(x)\n",
    "    \n",
    "    decoded = Conv2D(1, (3, 3), activation='sigmoid', padding='same')(x)  # Single channel output\n",
    "    return decoded"
   ]
  },
  {
   "cell_type": "code",
   "execution_count": 55,
   "id": "80f88407",
   "metadata": {},
   "outputs": [
    {
     "name": "stdout",
     "output_type": "stream",
     "text": [
      "Model: \"model_3\"\n",
      "_________________________________________________________________\n",
      " Layer (type)                Output Shape              Param #   \n",
      "=================================================================\n",
      " input_4 (InputLayer)        [(None, 600, 264, 1)]     0         \n",
      "                                                                 \n",
      " conv2d_15 (Conv2D)          (None, 600, 264, 64)      640       \n",
      "                                                                 \n",
      " batch_normalization_18 (Bat  (None, 600, 264, 64)     256       \n",
      " chNormalization)                                                \n",
      "                                                                 \n",
      " max_pooling2d_9 (MaxPooling  (None, 300, 132, 64)     0         \n",
      " 2D)                                                             \n",
      "                                                                 \n",
      " conv2d_16 (Conv2D)          (None, 300, 132, 128)     73856     \n",
      "                                                                 \n",
      " batch_normalization_19 (Bat  (None, 300, 132, 128)    512       \n",
      " chNormalization)                                                \n",
      "                                                                 \n",
      " max_pooling2d_10 (MaxPoolin  (None, 150, 66, 128)     0         \n",
      " g2D)                                                            \n",
      "                                                                 \n",
      " conv2d_17 (Conv2D)          (None, 150, 66, 256)      295168    \n",
      "                                                                 \n",
      " batch_normalization_20 (Bat  (None, 150, 66, 256)     1024      \n",
      " chNormalization)                                                \n",
      "                                                                 \n",
      " max_pooling2d_11 (MaxPoolin  (None, 75, 33, 256)      0         \n",
      " g2D)                                                            \n",
      "                                                                 \n",
      " conv2d_18 (Conv2D)          (None, 75, 33, 512)       1180160   \n",
      "                                                                 \n",
      " conv2d_transpose_9 (Conv2DT  (None, 150, 66, 256)     1179904   \n",
      " ranspose)                                                       \n",
      "                                                                 \n",
      " batch_normalization_21 (Bat  (None, 150, 66, 256)     1024      \n",
      " chNormalization)                                                \n",
      "                                                                 \n",
      " conv2d_transpose_10 (Conv2D  (None, 300, 132, 128)    295040    \n",
      " Transpose)                                                      \n",
      "                                                                 \n",
      " batch_normalization_22 (Bat  (None, 300, 132, 128)    512       \n",
      " chNormalization)                                                \n",
      "                                                                 \n",
      " conv2d_transpose_11 (Conv2D  (None, 600, 264, 64)     73792     \n",
      " Transpose)                                                      \n",
      "                                                                 \n",
      " batch_normalization_23 (Bat  (None, 600, 264, 64)     256       \n",
      " chNormalization)                                                \n",
      "                                                                 \n",
      " conv2d_19 (Conv2D)          (None, 600, 264, 1)       577       \n",
      "                                                                 \n",
      "=================================================================\n",
      "Total params: 3,102,721\n",
      "Trainable params: 3,100,929\n",
      "Non-trainable params: 1,792\n",
      "_________________________________________________________________\n",
      "Epoch 1/2\n",
      "34/34 [==============================] - ETA: 0s - loss: 0.0687 \n",
      "Epoch 1: val_loss improved from inf to 0.08056, saving model to best_model.h5\n",
      "34/34 [==============================] - 521s 15s/step - loss: 0.0687 - val_loss: 0.0806 - lr: 6.2500e-04\n",
      "Epoch 2/2\n",
      "34/34 [==============================] - ETA: 0s - loss: 0.0316 \n",
      "Epoch 2: val_loss improved from 0.08056 to 0.04793, saving model to best_model.h5\n",
      "34/34 [==============================] - 542s 16s/step - loss: 0.0316 - val_loss: 0.0479 - lr: 6.2500e-04\n"
     ]
    }
   ],
   "source": [
    "#Batch size\n",
    "batch_size = 16\n",
    "\n",
    "# Input shape\n",
    "input_shape = (600, 264, 1)\n",
    "inputs = Input(shape=input_shape)\n",
    "\n",
    "# Build the autoencoder\n",
    "encoded = encoder(inputs)\n",
    "decoded = decoder(encoded)\n",
    "\n",
    "autoencoder = Model(inputs, decoded)\n",
    "\n",
    "# Optimizer adapts learning rate based on batch size, using Adam optimizer\n",
    "optimizer = Adam(learning_rate=0.01*(batch_size/256), beta_1=0.9, beta_2=0.999)\n",
    "\n",
    "autoencoder.compile(optimizer=optimizer, loss='mean_squared_error')\n",
    "\n",
    "# Summary of the model\n",
    "autoencoder.summary()\n",
    "\n",
    "# Initialize model checkpointing to save the model with the lowest loss.\n",
    "model_checkpoint = ModelCheckpoint('best_model.h5', monitor='val_loss', save_best_only=True, mode='min', verbose=1)\n",
    "\n",
    "# Set up early stopping to halt training if loss doesn't improve after 20 epochs.\n",
    "early_stopping = EarlyStopping(monitor='val_loss', patience=20, restore_best_weights=True, mode='min', verbose=1)\n",
    "\n",
    "# Configure learning rate reduction if loss doesn't improve after 3 epochs.\n",
    "reduce_lr = ReduceLROnPlateau(monitor='val_loss', patience=3, verbose=1, factor=0.5, min_lr=0.0000001)\n",
    "\n",
    "# Fit the model\n",
    "history = autoencoder.fit(generator(X_train_normalized, y_train_normalized),\n",
    "                          steps_per_epoch=len(X_train_normalized) // batch_size,\n",
    "                          epochs=100,\n",
    "                          validation_data=(X_val_normalized, y_val_normalized),\n",
    "                          callbacks=[model_checkpoint, early_stopping, reduce_lr])"
   ]
  },
  {
   "cell_type": "markdown",
   "id": "dea23bda",
   "metadata": {},
   "source": [
    "# Results"
   ]
  },
  {
   "cell_type": "code",
   "execution_count": 47,
   "id": "ab17c76f",
   "metadata": {},
   "outputs": [
    {
     "name": "stdout",
     "output_type": "stream",
     "text": [
      "Serving 'best_model.h5' at http://localhost:8080\n"
     ]
    },
    {
     "data": {
      "text/plain": [
       "('localhost', 8080)"
      ]
     },
     "execution_count": 47,
     "metadata": {},
     "output_type": "execute_result"
    }
   ],
   "source": [
    "#Network visualization\n",
    "netron.start('best_model.h5')"
   ]
  },
  {
   "cell_type": "code",
   "execution_count": 56,
   "id": "f8c40449",
   "metadata": {},
   "outputs": [
    {
     "data": {
      "image/png": "[encoded data removed]",
      "text/plain": [
       "<Figure size 432x288 with 1 Axes>"
      ]
     },
     "metadata": {
      "needs_background": "light"
     },
     "output_type": "display_data"
    }
   ],
   "source": [
    "plot_graphs(history, 'loss')"
   ]
  },
  {
   "cell_type": "code",
   "execution_count": 61,
   "id": "1270c081",
   "metadata": {},
   "outputs": [
    {
     "name": "stdout",
     "output_type": "stream",
     "text": [
      "18/18 [==============================] - 131s 7s/step - loss: 0.0458\n",
      "3/3 [==============================] - 19s 6s/step - loss: 0.0479\n",
      "3/3 [==============================] - 21s 6s/step - loss: 0.0491\n"
     ]
    },
    {
     "data": {
      "text/html": [
       "<div>\n",
       "<style scoped>\n",
       "    .dataframe tbody tr th:only-of-type {\n",
       "        vertical-align: middle;\n",
       "    }\n",
       "\n",
       "    .dataframe tbody tr th {\n",
       "        vertical-align: top;\n",
       "    }\n",
       "\n",
       "    .dataframe thead th {\n",
       "        text-align: right;\n",
       "    }\n",
       "</style>\n",
       "<table border=\"1\" class=\"dataframe\">\n",
       "  <thead>\n",
       "    <tr style=\"text-align: right;\">\n",
       "      <th></th>\n",
       "      <th>train</th>\n",
       "      <th>validation</th>\n",
       "      <th>test</th>\n",
       "    </tr>\n",
       "  </thead>\n",
       "  <tbody>\n",
       "    <tr>\n",
       "      <th>0</th>\n",
       "      <td>0.045805</td>\n",
       "      <td>0.047926</td>\n",
       "      <td>0.049091</td>\n",
       "    </tr>\n",
       "  </tbody>\n",
       "</table>\n",
       "</div>"
      ],
      "text/plain": [
       "      train  validation      test\n",
       "0  0.045805    0.047926  0.049091"
      ]
     },
     "execution_count": 61,
     "metadata": {},
     "output_type": "execute_result"
    }
   ],
   "source": [
    "#Train loss\n",
    "train_loss = autoencoder.evaluate(X_train_normalized, y_train_normalized, verbose=1)\n",
    "\n",
    "#Validation loss\n",
    "val_loss = autoencoder.evaluate(X_val_normalized, y_val_normalized, verbose=1)\n",
    "\n",
    "#Test loss\n",
    "test_loss = autoencoder.evaluate(X_test_normalized, y_test_normalized, verbose=1)\n",
    "\n",
    "results = pd.DataFrame([[train_loss, val_loss, test_loss]],\n",
    "            columns = ['train', 'validation', 'test'])\n",
    "results"
   ]
  },
  {
   "cell_type": "markdown",
   "id": "283a25b2",
   "metadata": {},
   "source": [
    "# Predictions"
   ]
  },
  {
   "cell_type": "code",
   "execution_count": 22,
   "id": "8a541305",
   "metadata": {},
   "outputs": [],
   "source": [
    "autoencoder=load_model('best_model.h5')"
   ]
  },
  {
   "cell_type": "code",
   "execution_count": 28,
   "id": "e1704b6f",
   "metadata": {},
   "outputs": [
    {
     "name": "stdout",
     "output_type": "stream",
     "text": [
      "3/3 [==============================] - 11s 3s/step\n"
     ]
    }
   ],
   "source": [
    "predictions = autoencoder.predict(X_test_normalized)"
   ]
  },
  {
   "cell_type": "code",
   "execution_count": 29,
   "id": "c2bc6290",
   "metadata": {},
   "outputs": [],
   "source": [
    "audio_pred = get_audio_predictions(predictions[2], phase_test[2])"
   ]
  },
  {
   "cell_type": "code",
   "execution_count": 30,
   "id": "541a5f85",
   "metadata": {},
   "outputs": [],
   "source": [
    "sf.write('audio_pred.wav', audio_pred, samplerate=sr)"
   ]
  },
  {
   "cell_type": "code",
   "execution_count": 31,
   "id": "4f2e956a",
   "metadata": {},
   "outputs": [],
   "source": [
    "sf.write('audio_noisy.wav', stft_to_audio(X_test[2], phase_test[2], hop_length_fft=304), samplerate=sr)"
   ]
  }
 ],
 "metadata": {
  "kernelspec": {
   "display_name": "Python 3 (ipykernel)",
   "language": "python",
   "name": "python3"
  },
  "language_info": {
   "codemirror_mode": {
    "name": "ipython",
    "version": 3
   },
   "file_extension": ".py",
   "mimetype": "text/x-python",
   "name": "python",
   "nbconvert_exporter": "python",
   "pygments_lexer": "ipython3",
   "version": "3.9.12"
  }
 },
 "nbformat": 4,
 "nbformat_minor": 5
}
