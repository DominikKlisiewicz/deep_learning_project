{
 "cells": [
  {
   "cell_type": "code",
   "execution_count": 139,
   "id": "74f6a546",
   "metadata": {},
   "outputs": [],
   "source": [
    "import os\n",
    "import librosa\n",
    "import numpy as np\n",
    "import soundfile as sf"
   ]
  },
  {
   "cell_type": "code",
   "execution_count": 140,
   "id": "ff8b0c40",
   "metadata": {},
   "outputs": [],
   "source": [
    "def padd_audio(audio, max_duration=15, sample_rate=16000):\n",
    "    \"\"\"This function take an audio and padd that audio with zeros\"\"\"\n",
    "    \n",
    "    max_length = max_duration * sample_rate\n",
    "    padding_needed = max_length - len(audio)\n",
    "    pad_left = padding_needed // 2\n",
    "    pad_right = padding_needed - pad_left\n",
    "    \n",
    "    return np.pad(audio, (pad_left, pad_right), 'constant')"
   ]
  },
  {
   "cell_type": "code",
   "execution_count": 141,
   "id": "31d80b06",
   "metadata": {},
   "outputs": [],
   "source": [
    "def mix_audio(original_audio_path, noise_audio_path, sample_rate=16000):\n",
    "    \"\"\"This function take an original audio and noise audio and mix it together\"\"\"\n",
    "    \n",
    "    # Load the original audio\n",
    "    original_audio, sr = librosa.load(original_audio_path, sr=sample_rate)\n",
    "    \n",
    "    #Padd original audio\n",
    "    original_audio = padd_audio(original_audio, sample_rate=sample_rate)\n",
    "    \n",
    "    # Load the noise audio\n",
    "    noise_audio, sr_noise = librosa.load(noise_audio_path, sr=sample_rate)\n",
    "    \n",
    "    # Repeat the noise audio\n",
    "    noise_audio = np.tile(noise_audio, int(np.ceil(len(original_audio) / len(noise_audio))))\n",
    "\n",
    "    # Trim the repeated noise audio to match the length of the original audio\n",
    "    noise_audio = noise_audio[:len(original_audio)]\n",
    "    \n",
    "    return original_audio + noise_audio"
   ]
  },
  {
   "cell_type": "code",
   "execution_count": 142,
   "id": "ec165e5a",
   "metadata": {},
   "outputs": [],
   "source": [
    "def audio_to_audio_frame_stack(sound_data, frame_length, hop_length_frame):\n",
    "    \"\"\"This function take an audio and split into several frame\n",
    "       in a numpy matrix of size (nb_frame,frame_length)\"\"\"\n",
    "\n",
    "    sequence_sample_length = sound_data.shape[0]\n",
    "    # Creating several audio frames using sliding windows\n",
    "    \n",
    "    sound_data_list = [sound_data[start:start + frame_length] for start in range(\n",
    "    0, sequence_sample_length - frame_length + 1, hop_length_frame)]  # get sliding windows\n",
    "    \n",
    "    # Combining all the frames to single matrix\n",
    "    return np.vstack(sound_data_list)"
   ]
  },
  {
   "cell_type": "code",
   "execution_count": 143,
   "id": "059d384d",
   "metadata": {},
   "outputs": [],
   "source": [
    "sr = 16000  # Sampling rate\n",
    "frame_length_ms = 25  # Frame length in milliseconds\n",
    "frame_length = int(frame_length_ms * sr / 1000)  # Frame length in samples\n",
    "hop_length_frame = frame_length // 2  # Hop length (50% overlap)   "
   ]
  },
  {
   "cell_type": "code",
   "execution_count": 144,
   "id": "a3d650f7",
   "metadata": {},
   "outputs": [
    {
     "name": "stdout",
     "output_type": "stream",
     "text": [
      "(1199, 400)\n",
      "(1199, 400)\n"
     ]
    }
   ],
   "source": [
    "#Example usage\n",
    "sound1 = mix_audio(os.path.join(os.getcwd(), 'Dataset', '89-218-0001.flac'), os.path.join(os.getcwd(), 'Noise', '5-202898-A-10.wav'))\n",
    "clean1 = audio_to_audio_frame_stack(sound1,frame_length,hop_length_frame)\n",
    "print(clean1.shape)\n",
    "\n",
    "sound2 = mix_audio(os.path.join(os.getcwd(), 'Dataset', '89-218-0003.flac'), os.path.join(os.getcwd(), 'Noise', '5-202898-A-10.wav'))\n",
    "clean2 = audio_to_audio_frame_stack(sound2,frame_length,hop_length_frame)\n",
    "print(clean2.shape)"
   ]
  },
  {
   "cell_type": "code",
   "execution_count": 145,
   "id": "ffbd5dd6",
   "metadata": {},
   "outputs": [],
   "source": [
    "sf.write('noisy_audio.wav', sound1, sr)"
   ]
  },
  {
   "cell_type": "code",
   "execution_count": 154,
   "id": "4b850271",
   "metadata": {},
   "outputs": [],
   "source": [
    "# Randmly chosen noise for each audio\n",
    "def combine_audio_with_noise(original_audio_dir, noise_audio_dir):\n",
    "    combination_dict = {}\n",
    "    noise_audios = os.listdir(noise_audio_dir)\n",
    "    original_audios = os.listdir(original_audio_dir)\n",
    "    \n",
    "    for original_audio in original_audios:\n",
    "        noise_audio = np.random.choice(noise_audios)\n",
    "        combination_dict[os.path.join(original_audio_dir, original_audio)] = os.path.join(noise_audio_dir, noise_audio)\n",
    "        \n",
    "    return combination_dict"
   ]
  },
  {
   "cell_type": "code",
   "execution_count": 155,
   "id": "aef0f3b0",
   "metadata": {},
   "outputs": [],
   "source": [
    "audio_noise_pairs = combine_audio_with_noise(os.path.join(os.getcwd(), 'Dataset'), os.path.join(os.getcwd(), 'Noise'))"
   ]
  },
  {
   "cell_type": "code",
   "execution_count": 163,
   "id": "3446626d",
   "metadata": {},
   "outputs": [],
   "source": [
    "#Getting all the mixed audio matrices\n",
    "mixed_audios = np.zeros(len(audio_noise_pairs), dtype=object)\n",
    "for index, (audio_dir, noise_dir) in enumerate(audio_noise_pairs.items()):\n",
    "    sound = mix_audio(audio_dir, noise_dir, sample_rate=16000)\n",
    "    audio_to_audio_frame_stack(sound,frame_length,hop_length_frame)\n",
    "    mixed_audios[index] = audio_to_audio_frame_stack(sound,frame_length,hop_length_frame)"
   ]
  },
  {
   "cell_type": "code",
   "execution_count": 164,
   "id": "108e05e6",
   "metadata": {},
   "outputs": [
    {
     "data": {
      "text/plain": [
       "(1199, 400)"
      ]
     },
     "execution_count": 164,
     "metadata": {},
     "output_type": "execute_result"
    }
   ],
   "source": [
    "mixed_audios[0].shape"
   ]
  },
  {
   "cell_type": "code",
   "execution_count": 165,
   "id": "797947b8",
   "metadata": {},
   "outputs": [
    {
     "data": {
      "text/plain": [
       "5037"
      ]
     },
     "execution_count": 165,
     "metadata": {},
     "output_type": "execute_result"
    }
   ],
   "source": [
    "len(mixed_audios)"
   ]
  }
 ],
 "metadata": {
  "kernelspec": {
   "display_name": "Python 3 (ipykernel)",
   "language": "python",
   "name": "python3"
  },
  "language_info": {
   "codemirror_mode": {
    "name": "ipython",
    "version": 3
   },
   "file_extension": ".py",
   "mimetype": "text/x-python",
   "name": "python",
   "nbconvert_exporter": "python",
   "pygments_lexer": "ipython3",
   "version": "3.9.12"
  }
 },
 "nbformat": 4,
 "nbformat_minor": 5
}
